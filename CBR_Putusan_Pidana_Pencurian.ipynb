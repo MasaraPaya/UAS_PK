{
 "cells": [
  {
   "cell_type": "markdown",
   "id": "7ac61afc",
   "metadata": {},
   "source": [
    "# 📘 Case-Based Reasoning pada Putusan Pidana Pencurian\n",
    "**Tahapan 1–5 Lengkap**"
   ]
  },
  {
   "cell_type": "markdown",
   "id": "70e6f79b",
   "metadata": {},
   "source": [
    "## Tahap 1 – Membangun Case Base"
   ]
  },
  {
   "cell_type": "code",
   "execution_count": 1,
   "id": "568cc9e3",
   "metadata": {},
   "outputs": [
    {
     "name": "stdout",
     "output_type": "stream",
     "text": [
      "Tahap 1 selesai — file disimpan ke data/processed/cases.csv\n"
     ]
    }
   ],
   "source": [
    "import os\n",
    "import re\n",
    "import pandas as pd\n",
    "\n",
    "def extract_no_perkara(text):\n",
    "    match = re.search(r'Nomor\\s*:?[\\s\\-]*([A-Z0-9\\/\\.\\-]+)', text, re.IGNORECASE)\n",
    "    return match.group(1).strip() if match else ''\n",
    "\n",
    "def extract_tanggal(text):\n",
    "    match = re.search(r'putusan.*?tanggal\\s+(\\d{1,2}\\s+\\w+\\s+\\d{4})', text, re.IGNORECASE)\n",
    "    return match.group(1).strip() if match else ''\n",
    "\n",
    "def extract_pasal(text):\n",
    "    matches = re.findall(r'[Pp]asal\\s+(\\d+)(?:\\s+([A-Za-z\\.\\/]+(?: [A-Za-z\\.\\/]+)*))?', text)\n",
    "    return '; '.join({f\"Pasal {m[0]} {m[1]}\" if m[1] else f\"Pasal {m[0]}\" for m in matches}) if matches else ''\n",
    "\n",
    "def extract_ringkasan(text, max_sentences=3):\n",
    "    pattern = r'(menimbang bahwa.*?)(?:menetapkan|mengingat|memperhatikan|mengadili)'\n",
    "    match = re.search(pattern, text.lower(), re.DOTALL)\n",
    "    if match:\n",
    "        sentences = re.split(r'(?<=[.!?]) +', match.group(1).strip())\n",
    "        return ' '.join(sentences[:max_sentences])\n",
    "    return ''\n",
    "\n",
    "def extract_pihak(text):\n",
    "    pihak = re.findall(r'(Terdakwa|Penggugat|Tergugat|Pemohon|Termohon)\\s*:\\s*(.*)', text, re.IGNORECASE)\n",
    "    return '; '.join([f\"{p[0].capitalize()}: {p[1].strip()}\" for p in pihak]) if pihak else ''\n",
    "\n",
    "# Proses semua file .txt\n",
    "raw_path = 'data/raw'\n",
    "os.makedirs('data/processed', exist_ok=True)\n",
    "\n",
    "case_files = [f for f in os.listdir(raw_path) if f.endswith('.txt')]\n",
    "cases = []\n",
    "\n",
    "for fname in sorted(case_files):\n",
    "    with open(os.path.join(raw_path, fname), 'r', encoding='utf-8') as file:\n",
    "        text = file.read()\n",
    "    cases.append({\n",
    "        'case_id': fname.replace('.txt', ''),\n",
    "        'no_perkara': extract_no_perkara(text),\n",
    "        'tanggal': extract_tanggal(text),\n",
    "        'pasal': extract_pasal(text),\n",
    "        'ringkasan_fakta': extract_ringkasan(text),\n",
    "        'pihak': extract_pihak(text),\n",
    "        'text_full': text\n",
    "    })\n",
    "\n",
    "df = pd.DataFrame(cases)\n",
    "df.to_csv('data/processed/cases.csv', index=False)\n",
    "print(\"Tahap 1 selesai — file disimpan ke data/processed/cases.csv\")\n"
   ]
  },
  {
   "cell_type": "markdown",
   "id": "d7348ba5",
   "metadata": {},
   "source": [
    "## Tahap 2 – Representasi Kasus"
   ]
  },
  {
   "cell_type": "code",
   "execution_count": 4,
   "id": "f9b34be7",
   "metadata": {},
   "outputs": [
    {
     "data": {
      "text/html": [
       "<div>\n",
       "<style scoped>\n",
       "    .dataframe tbody tr th:only-of-type {\n",
       "        vertical-align: middle;\n",
       "    }\n",
       "\n",
       "    .dataframe tbody tr th {\n",
       "        vertical-align: top;\n",
       "    }\n",
       "\n",
       "    .dataframe thead th {\n",
       "        text-align: right;\n",
       "    }\n",
       "</style>\n",
       "<table border=\"1\" class=\"dataframe\">\n",
       "  <thead>\n",
       "    <tr style=\"text-align: right;\">\n",
       "      <th></th>\n",
       "      <th>case_id</th>\n",
       "      <th>no_perkara</th>\n",
       "      <th>tanggal</th>\n",
       "      <th>ringkasan_fakta</th>\n",
       "      <th>pasal</th>\n",
       "      <th>text_full</th>\n",
       "    </tr>\n",
       "  </thead>\n",
       "  <tbody>\n",
       "    <tr>\n",
       "      <th>0</th>\n",
       "      <td>case_001</td>\n",
       "      <td>10/Pid.B/2024/PN</td>\n",
       "      <td></td>\n",
       "      <td>Direktori Putusan Mahkamah Agung Republik Indo...</td>\n",
       "      <td>Pasal 365 Ayat</td>\n",
       "      <td>Direktori Putusan Mahkamah Agung Republik Indo...</td>\n",
       "    </tr>\n",
       "    <tr>\n",
       "      <th>1</th>\n",
       "      <td>case_002</td>\n",
       "      <td>114/Pid.B/2025/PN</td>\n",
       "      <td>15-58-55</td>\n",
       "      <td>Direktori Putusan Mahkamah Agung Republik Indo...</td>\n",
       "      <td>Pasal 362 KUHP</td>\n",
       "      <td>Direktori Putusan Mahkamah Agung Republik Indo...</td>\n",
       "    </tr>\n",
       "    <tr>\n",
       "      <th>2</th>\n",
       "      <td>case_003</td>\n",
       "      <td>--/Pid.Sus-Anak/2024/PN</td>\n",
       "      <td>2/03/2024</td>\n",
       "      <td>Direktori Putusan Mahkamah Agung Republik Indo...</td>\n",
       "      <td>Pasal 363 Ayat</td>\n",
       "      <td>Direktori Putusan Mahkamah Agung Republik Indo...</td>\n",
       "    </tr>\n",
       "    <tr>\n",
       "      <th>3</th>\n",
       "      <td>case_004</td>\n",
       "      <td>130/Pid.B/2024/PN</td>\n",
       "      <td></td>\n",
       "      <td>Direktori Putusan Mahkamah Agung Republik Indo...</td>\n",
       "      <td>Pasal 107 huruf</td>\n",
       "      <td>Direktori Putusan Mahkamah Agung Republik Indo...</td>\n",
       "    </tr>\n",
       "    <tr>\n",
       "      <th>4</th>\n",
       "      <td>case_005</td>\n",
       "      <td>135/Pid.C/2024/PN</td>\n",
       "      <td></td>\n",
       "      <td>Direktori Putusan Mahkamah Agung Republik Indo...</td>\n",
       "      <td>Pasal 209 Ayat</td>\n",
       "      <td>Direktori Putusan Mahkamah Agung Republik Indo...</td>\n",
       "    </tr>\n",
       "  </tbody>\n",
       "</table>\n",
       "</div>"
      ],
      "text/plain": [
       "    case_id               no_perkara    tanggal  \\\n",
       "0  case_001         10/Pid.B/2024/PN              \n",
       "1  case_002        114/Pid.B/2025/PN   15-58-55   \n",
       "2  case_003  --/Pid.Sus-Anak/2024/PN  2/03/2024   \n",
       "3  case_004        130/Pid.B/2024/PN              \n",
       "4  case_005        135/Pid.C/2024/PN              \n",
       "\n",
       "                                     ringkasan_fakta             pasal  \\\n",
       "0  Direktori Putusan Mahkamah Agung Republik Indo...   Pasal 365 Ayat    \n",
       "1  Direktori Putusan Mahkamah Agung Republik Indo...    Pasal 362 KUHP   \n",
       "2  Direktori Putusan Mahkamah Agung Republik Indo...   Pasal 363 Ayat    \n",
       "3  Direktori Putusan Mahkamah Agung Republik Indo...  Pasal 107 huruf    \n",
       "4  Direktori Putusan Mahkamah Agung Republik Indo...    Pasal 209 Ayat   \n",
       "\n",
       "                                           text_full  \n",
       "0  Direktori Putusan Mahkamah Agung Republik Indo...  \n",
       "1  Direktori Putusan Mahkamah Agung Republik Indo...  \n",
       "2  Direktori Putusan Mahkamah Agung Republik Indo...  \n",
       "3  Direktori Putusan Mahkamah Agung Republik Indo...  \n",
       "4  Direktori Putusan Mahkamah Agung Republik Indo...  "
      ]
     },
     "execution_count": 4,
     "metadata": {},
     "output_type": "execute_result"
    }
   ],
   "source": [
    "\n",
    "import pandas as pd\n",
    "from pathlib import Path\n",
    "\n",
    "def extract_metadata(text):\n",
    "    meta = {\n",
    "        \"no_perkara\": re.search(r'Nomor\\s*:?[\\s\\.]*(\\S+)', text, re.IGNORECASE),\n",
    "        \"tanggal\": re.search(r'\\d{1,2}[-/\\s]\\d{1,2}[-/\\s]\\d{2,4}', text),\n",
    "    }\n",
    "    return {\n",
    "        \"no_perkara\": meta[\"no_perkara\"].group(1) if meta[\"no_perkara\"] else \"\",\n",
    "        \"tanggal\": meta[\"tanggal\"].group(0) if meta[\"tanggal\"] else \"\"\n",
    "    }\n",
    "\n",
    "def extract_pasal(text):\n",
    "    match = re.search(r\"Pasal\\s+(\\d+)\\s+([a-zA-Z]*)\\s*(KUHP)?\", text)\n",
    "    return match.group(0) if match else None\n",
    "\n",
    "def extract_ringkasan(text):\n",
    "    kalimat = text.strip().split(\".\")\n",
    "    return kalimat[0] if kalimat else \"\"\n",
    "\n",
    "cases = []\n",
    "for fname in os.listdir(\"data/raw\"):\n",
    "    with open(f\"data/raw/{fname}\", \"r\", encoding=\"utf-8\") as f:\n",
    "        text = f.read()\n",
    "    meta = extract_metadata(text)\n",
    "    cases.append({\n",
    "        \"case_id\": fname.replace(\".txt\", \"\"),\n",
    "        \"no_perkara\": meta[\"no_perkara\"],\n",
    "        \"tanggal\": meta[\"tanggal\"],\n",
    "        \"ringkasan_fakta\": extract_ringkasan(text),\n",
    "        \"pasal\": extract_pasal(text),\n",
    "        \"text_full\": text\n",
    "    })\n",
    "\n",
    "df = pd.DataFrame(cases)\n",
    "Path(\"data/processed\").mkdir(parents=True, exist_ok=True)\n",
    "df.to_csv(\"data/processed/cases.csv\", index=False)\n",
    "df.head()\n"
   ]
  },
  {
   "cell_type": "markdown",
   "id": "aedde3d8",
   "metadata": {},
   "source": [
    "## Tahap 3 – Case Retrieval"
   ]
  },
  {
   "cell_type": "code",
   "execution_count": 5,
   "id": "e542a20c",
   "metadata": {},
   "outputs": [],
   "source": [
    "\n",
    "from sklearn.feature_extraction.text import TfidfVectorizer\n",
    "from sklearn.metrics.pairwise import cosine_similarity\n",
    "\n",
    "vectorizer = TfidfVectorizer(max_features=5000)\n",
    "X_tfidf = vectorizer.fit_transform(df['text_full'].fillna(\"\"))\n",
    "\n",
    "def retrieve(query, k=5):\n",
    "    query_vec = vectorizer.transform([query])\n",
    "    sims = cosine_similarity(query_vec, X_tfidf)[0]\n",
    "    top_k = sims.argsort()[::-1][:k]\n",
    "    return list(df.iloc[top_k]['case_id'])\n",
    "\n",
    "# Simpan beberapa query uji\n",
    "import json\n",
    "Path(\"data/eval\").mkdir(parents=True, exist_ok=True)\n",
    "queries = [\n",
    "    {\"query\": \"Terdakwa mengambil sepeda motor\", \"true_case_id\": \"case_001\"},\n",
    "    {\"query\": \"Mencuri uang di toko\", \"true_case_id\": \"case_002\"},\n",
    "    {\"query\": \"Merampas handphone dari korban\", \"true_case_id\": \"case_003\"}\n",
    "]\n",
    "with open(\"data/eval/queries.json\", \"w\", encoding=\"utf-8\") as f:\n",
    "    json.dump(queries, f, indent=2)\n"
   ]
  },
  {
   "cell_type": "markdown",
   "id": "ad9d019e",
   "metadata": {},
   "source": [
    "## Tahap 4 – Solution Reuse"
   ]
  },
  {
   "cell_type": "code",
   "execution_count": 6,
   "id": "b6a5ea8f",
   "metadata": {},
   "outputs": [
    {
     "name": "stdout",
     "output_type": "stream",
     "text": [
      "Query: Terdakwa mengambil sepeda motor\n",
      "Prediksi: Menjatuhkan pidana penjara 6 bulan\n",
      "\n",
      "Query: Mencuri uang di toko\n",
      "Prediksi: Pidana 3 bulan dengan masa percobaan\n",
      "\n",
      "Query: Merampas handphone dari korban\n",
      "Prediksi: Pidana 3 bulan dengan masa percobaan\n",
      "\n"
     ]
    }
   ],
   "source": [
    "\n",
    "# Tambahkan solusi dummy jika belum ada\n",
    "if 'solusi' not in df.columns:\n",
    "    solusi_dummy = [\n",
    "        \"Menjatuhkan pidana penjara 6 bulan\",\n",
    "        \"Menjatuhkan pidana penjara 1 tahun\",\n",
    "        \"Pidana 3 bulan dengan masa percobaan\"\n",
    "    ]\n",
    "    df['solusi'] = (solusi_dummy * ((len(df) // len(solusi_dummy)) + 1))[:len(df)]\n",
    "    df.to_csv(\"data/processed/cases.csv\", index=False)\n",
    "\n",
    "# Buat dictionary solusi\n",
    "case_solutions = dict(zip(df['case_id'], df['solusi']))\n",
    "\n",
    "def predict_outcome(query, k=5):\n",
    "    top_k = retrieve(query, k)\n",
    "    solusi_top = [case_solutions[c] for c in top_k if c in case_solutions]\n",
    "    return max(set(solusi_top), key=solusi_top.count) if solusi_top else \"Tidak ditemukan\"\n",
    "\n",
    "# Demo\n",
    "for q in queries:\n",
    "    hasil = predict_outcome(q[\"query\"])\n",
    "    print(f\"Query: {q['query']}\\nPrediksi: {hasil}\\n\")\n"
   ]
  },
  {
   "cell_type": "markdown",
   "id": "e5ff0893",
   "metadata": {},
   "source": [
    "## Tahap 5 – Evaluasi Model"
   ]
  },
  {
   "cell_type": "code",
   "execution_count": 11,
   "id": "3b68803e",
   "metadata": {},
   "outputs": [
    {
     "name": "stdout",
     "output_type": "stream",
     "text": [
      "📊 Evaluasi Prediksi Solusi:\n",
      "                                      precision    recall  f1-score   support\n",
      "\n",
      "  Menjatuhkan pidana penjara 1 tahun       0.00      0.00      0.00         1\n",
      "  Menjatuhkan pidana penjara 6 bulan       1.00      1.00      1.00         1\n",
      "Pidana 3 bulan dengan masa percobaan       0.50      1.00      0.67         1\n",
      "\n",
      "                            accuracy                           0.67         3\n",
      "                           macro avg       0.50      0.67      0.56         3\n",
      "                        weighted avg       0.50      0.67      0.56         3\n",
      "\n"
     ]
    },
    {
     "data": {
      "image/png": "[encoded data removed]",
      "text/plain": [
       "<Figure size 640x480 with 1 Axes>"
      ]
     },
     "metadata": {},
     "output_type": "display_data"
    }
   ],
   "source": [
    "\n",
    "from sklearn.metrics import classification_report\n",
    "import matplotlib.pyplot as plt\n",
    "\n",
    "# Tambah ground-truth\n",
    "for q in queries:\n",
    "    q['predicted'] = predict_outcome(q['query'])\n",
    "    q['true_solution'] = case_solutions.get(q['true_case_id'], \"Tidak diketahui\")\n",
    "\n",
    "# Evaluasi\n",
    "y_true = [q['true_solution'] for q in queries]\n",
    "y_pred = [q['predicted'] for q in queries]\n",
    "\n",
    "report = classification_report(y_true, y_pred, zero_division=0, output_dict=True)\n",
    "print(\"📊 Evaluasi Prediksi Solusi:\")\n",
    "print(classification_report(y_true, y_pred, zero_division=0))\n",
    "\n",
    "# Simpan hasil\n",
    "pd.DataFrame(report).transpose().to_csv(\"data/eval/prediction_metrics.csv\")\n",
    "with open(\"data/eval/queries.json\", \"w\", encoding=\"utf-8\") as f:\n",
    "    json.dump(queries, f, indent=2)\n",
    "\n",
    "# Visualisasi\n",
    "benar = sum(1 for i in range(len(y_true)) if y_true[i] == y_pred[i])\n",
    "salah = len(y_true) - benar\n",
    "\n",
    "plt.bar(['Benar', 'Salah'], [benar, salah], color=['green', 'red'])\n",
    "plt.title(\"Akurasi Prediksi Solusi\")\n",
    "plt.ylabel(\"Jumlah Query\")\n",
    "plt.show()\n"
   ]
  }
 ],
 "metadata": {
  "kernelspec": {
   "display_name": "Python 3",
   "language": "python",
   "name": "python3"
  },
  "language_info": {
   "codemirror_mode": {
    "name": "ipython",
    "version": 3
   },
   "file_extension": ".py",
   "mimetype": "text/x-python",
   "name": "python",
   "nbconvert_exporter": "python",
   "pygments_lexer": "ipython3",
   "version": "3.12.6"
  }
 },
 "nbformat": 4,
 "nbformat_minor": 5
}
